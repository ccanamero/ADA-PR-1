{
 "cells": [
  {
   "cell_type": "code",
   "execution_count": 1,
   "metadata": {},
   "outputs": [
    {
     "name": "stdout",
     "output_type": "stream",
     "text": [
      "Requirement already satisfied: ydata_profiling in /home/ccanamero/.pyenv/versions/3.11.0/lib/python3.11/site-packages (4.11.0)\n",
      "Requirement already satisfied: scipy<1.14,>=1.4.1 in /home/ccanamero/.pyenv/versions/3.11.0/lib/python3.11/site-packages (from ydata_profiling) (1.13.1)\n",
      "Requirement already satisfied: pandas!=1.4.0,<3,>1.1 in /home/ccanamero/.pyenv/versions/3.11.0/lib/python3.11/site-packages (from ydata_profiling) (2.2.2)\n",
      "Requirement already satisfied: matplotlib<3.10,>=3.5 in /home/ccanamero/.pyenv/versions/3.11.0/lib/python3.11/site-packages (from ydata_profiling) (3.8.4)\n",
      "Requirement already satisfied: pydantic>=2 in /home/ccanamero/.pyenv/versions/3.11.0/lib/python3.11/site-packages (from ydata_profiling) (2.9.2)\n",
      "Requirement already satisfied: PyYAML<6.1,>=5.0.0 in /home/ccanamero/.pyenv/versions/3.11.0/lib/python3.11/site-packages (from ydata_profiling) (6.0.1)\n",
      "Requirement already satisfied: jinja2<3.2,>=2.11.1 in /home/ccanamero/.pyenv/versions/3.11.0/lib/python3.11/site-packages (from ydata_profiling) (3.1.3)\n",
      "Requirement already satisfied: visions<0.7.7,>=0.7.5 in /home/ccanamero/.pyenv/versions/3.11.0/lib/python3.11/site-packages (from visions[type_image_path]<0.7.7,>=0.7.5->ydata_profiling) (0.7.6)\n",
      "Requirement already satisfied: numpy<2.2,>=1.16.0 in /home/ccanamero/.pyenv/versions/3.11.0/lib/python3.11/site-packages (from ydata_profiling) (1.26.4)\n",
      "Requirement already satisfied: htmlmin==0.1.12 in /home/ccanamero/.pyenv/versions/3.11.0/lib/python3.11/site-packages (from ydata_profiling) (0.1.12)\n",
      "Requirement already satisfied: phik<0.13,>=0.11.1 in /home/ccanamero/.pyenv/versions/3.11.0/lib/python3.11/site-packages (from ydata_profiling) (0.12.4)\n",
      "Requirement already satisfied: requests<3,>=2.24.0 in /home/ccanamero/.pyenv/versions/3.11.0/lib/python3.11/site-packages (from ydata_profiling) (2.31.0)\n",
      "Requirement already satisfied: tqdm<5,>=4.48.2 in /home/ccanamero/.pyenv/versions/3.11.0/lib/python3.11/site-packages (from ydata_profiling) (4.66.5)\n",
      "Requirement already satisfied: seaborn<0.14,>=0.10.1 in /home/ccanamero/.pyenv/versions/3.11.0/lib/python3.11/site-packages (from ydata_profiling) (0.13.2)\n",
      "Requirement already satisfied: multimethod<2,>=1.4 in /home/ccanamero/.pyenv/versions/3.11.0/lib/python3.11/site-packages (from ydata_profiling) (1.12)\n",
      "Requirement already satisfied: statsmodels<1,>=0.13.2 in /home/ccanamero/.pyenv/versions/3.11.0/lib/python3.11/site-packages (from ydata_profiling) (0.14.4)\n",
      "Requirement already satisfied: typeguard<5,>=3 in /home/ccanamero/.pyenv/versions/3.11.0/lib/python3.11/site-packages (from ydata_profiling) (4.4.0)\n",
      "Requirement already satisfied: imagehash==4.3.1 in /home/ccanamero/.pyenv/versions/3.11.0/lib/python3.11/site-packages (from ydata_profiling) (4.3.1)\n",
      "Requirement already satisfied: wordcloud>=1.9.3 in /home/ccanamero/.pyenv/versions/3.11.0/lib/python3.11/site-packages (from ydata_profiling) (1.9.3)\n",
      "Requirement already satisfied: dacite>=1.8 in /home/ccanamero/.pyenv/versions/3.11.0/lib/python3.11/site-packages (from ydata_profiling) (1.8.1)\n",
      "Requirement already satisfied: numba<1,>=0.56.0 in /home/ccanamero/.pyenv/versions/3.11.0/lib/python3.11/site-packages (from ydata_profiling) (0.60.0)\n",
      "Requirement already satisfied: PyWavelets in /home/ccanamero/.pyenv/versions/3.11.0/lib/python3.11/site-packages (from imagehash==4.3.1->ydata_profiling) (1.7.0)\n",
      "Requirement already satisfied: pillow in /home/ccanamero/.pyenv/versions/3.11.0/lib/python3.11/site-packages (from imagehash==4.3.1->ydata_profiling) (10.3.0)\n",
      "Requirement already satisfied: MarkupSafe>=2.0 in /home/ccanamero/.pyenv/versions/3.11.0/lib/python3.11/site-packages (from jinja2<3.2,>=2.11.1->ydata_profiling) (2.1.5)\n",
      "Requirement already satisfied: contourpy>=1.0.1 in /home/ccanamero/.pyenv/versions/3.11.0/lib/python3.11/site-packages (from matplotlib<3.10,>=3.5->ydata_profiling) (1.2.1)\n",
      "Requirement already satisfied: cycler>=0.10 in /home/ccanamero/.pyenv/versions/3.11.0/lib/python3.11/site-packages (from matplotlib<3.10,>=3.5->ydata_profiling) (0.12.1)\n",
      "Requirement already satisfied: fonttools>=4.22.0 in /home/ccanamero/.pyenv/versions/3.11.0/lib/python3.11/site-packages (from matplotlib<3.10,>=3.5->ydata_profiling) (4.51.0)\n",
      "Requirement already satisfied: kiwisolver>=1.3.1 in /home/ccanamero/.pyenv/versions/3.11.0/lib/python3.11/site-packages (from matplotlib<3.10,>=3.5->ydata_profiling) (1.4.5)\n",
      "Requirement already satisfied: packaging>=20.0 in /home/ccanamero/.pyenv/versions/3.11.0/lib/python3.11/site-packages (from matplotlib<3.10,>=3.5->ydata_profiling) (24.0)\n",
      "Requirement already satisfied: pyparsing>=2.3.1 in /home/ccanamero/.pyenv/versions/3.11.0/lib/python3.11/site-packages (from matplotlib<3.10,>=3.5->ydata_profiling) (3.1.2)\n",
      "Requirement already satisfied: python-dateutil>=2.7 in /home/ccanamero/.pyenv/versions/3.11.0/lib/python3.11/site-packages (from matplotlib<3.10,>=3.5->ydata_profiling) (2.9.0.post0)\n",
      "Requirement already satisfied: llvmlite<0.44,>=0.43.0dev0 in /home/ccanamero/.pyenv/versions/3.11.0/lib/python3.11/site-packages (from numba<1,>=0.56.0->ydata_profiling) (0.43.0)\n",
      "Requirement already satisfied: pytz>=2020.1 in /home/ccanamero/.pyenv/versions/3.11.0/lib/python3.11/site-packages (from pandas!=1.4.0,<3,>1.1->ydata_profiling) (2024.1)\n",
      "Requirement already satisfied: tzdata>=2022.7 in /home/ccanamero/.pyenv/versions/3.11.0/lib/python3.11/site-packages (from pandas!=1.4.0,<3,>1.1->ydata_profiling) (2024.1)\n",
      "Requirement already satisfied: joblib>=0.14.1 in /home/ccanamero/.pyenv/versions/3.11.0/lib/python3.11/site-packages (from phik<0.13,>=0.11.1->ydata_profiling) (1.4.2)\n",
      "Requirement already satisfied: annotated-types>=0.6.0 in /home/ccanamero/.pyenv/versions/3.11.0/lib/python3.11/site-packages (from pydantic>=2->ydata_profiling) (0.7.0)\n",
      "Requirement already satisfied: pydantic-core==2.23.4 in /home/ccanamero/.pyenv/versions/3.11.0/lib/python3.11/site-packages (from pydantic>=2->ydata_profiling) (2.23.4)\n",
      "Requirement already satisfied: typing-extensions>=4.6.1 in /home/ccanamero/.pyenv/versions/3.11.0/lib/python3.11/site-packages (from pydantic>=2->ydata_profiling) (4.11.0)\n",
      "Requirement already satisfied: charset-normalizer<4,>=2 in /home/ccanamero/.pyenv/versions/3.11.0/lib/python3.11/site-packages (from requests<3,>=2.24.0->ydata_profiling) (3.3.2)\n",
      "Requirement already satisfied: idna<4,>=2.5 in /home/ccanamero/.pyenv/versions/3.11.0/lib/python3.11/site-packages (from requests<3,>=2.24.0->ydata_profiling) (3.6)\n",
      "Requirement already satisfied: urllib3<3,>=1.21.1 in /home/ccanamero/.pyenv/versions/3.11.0/lib/python3.11/site-packages (from requests<3,>=2.24.0->ydata_profiling) (2.2.1)\n",
      "Requirement already satisfied: certifi>=2017.4.17 in /home/ccanamero/.pyenv/versions/3.11.0/lib/python3.11/site-packages (from requests<3,>=2.24.0->ydata_profiling) (2024.2.2)\n",
      "Requirement already satisfied: patsy>=0.5.6 in /home/ccanamero/.pyenv/versions/3.11.0/lib/python3.11/site-packages (from statsmodels<1,>=0.13.2->ydata_profiling) (0.5.6)\n",
      "Requirement already satisfied: attrs>=19.3.0 in /home/ccanamero/.pyenv/versions/3.11.0/lib/python3.11/site-packages (from visions<0.7.7,>=0.7.5->visions[type_image_path]<0.7.7,>=0.7.5->ydata_profiling) (23.2.0)\n",
      "Requirement already satisfied: networkx>=2.4 in /home/ccanamero/.pyenv/versions/3.11.0/lib/python3.11/site-packages (from visions<0.7.7,>=0.7.5->visions[type_image_path]<0.7.7,>=0.7.5->ydata_profiling) (3.3)\n",
      "Requirement already satisfied: six in /home/ccanamero/.pyenv/versions/3.11.0/lib/python3.11/site-packages (from patsy>=0.5.6->statsmodels<1,>=0.13.2->ydata_profiling) (1.16.0)\n",
      "\n",
      "\u001b[1m[\u001b[0m\u001b[34;49mnotice\u001b[0m\u001b[1;39;49m]\u001b[0m\u001b[39;49m A new release of pip is available: \u001b[0m\u001b[31;49m24.0\u001b[0m\u001b[39;49m -> \u001b[0m\u001b[32;49m24.3.1\u001b[0m\n",
      "\u001b[1m[\u001b[0m\u001b[34;49mnotice\u001b[0m\u001b[1;39;49m]\u001b[0m\u001b[39;49m To update, run: \u001b[0m\u001b[32;49mpip install --upgrade pip\u001b[0m\n",
      "Found existing installation: numpy 1.26.4\n",
      "Uninstalling numpy-1.26.4:\n",
      "  Successfully uninstalled numpy-1.26.4\n",
      "Collecting numpy==2.0.0\n",
      "  Downloading numpy-2.0.0-cp311-cp311-manylinux_2_17_x86_64.manylinux2014_x86_64.whl.metadata (60 kB)\n",
      "\u001b[2K     \u001b[90m━━━━━━━━━━━━━━━━━━━━━━━━━━━━━━━━━━━━━━━━\u001b[0m \u001b[32m60.9/60.9 kB\u001b[0m \u001b[31m1.7 MB/s\u001b[0m eta \u001b[36m0:00:00\u001b[0m\n",
      "\u001b[?25hDownloading numpy-2.0.0-cp311-cp311-manylinux_2_17_x86_64.manylinux2014_x86_64.whl (19.3 MB)\n",
      "\u001b[2K   \u001b[90m━━━━━━━━━━━━━━━━━━━━━━━━━━━━━━━━━━━━━━━━\u001b[0m \u001b[32m19.3/19.3 MB\u001b[0m \u001b[31m11.0 MB/s\u001b[0m eta \u001b[36m0:00:00\u001b[0m00:01\u001b[0m00:01\u001b[0m\n",
      "\u001b[?25hInstalling collected packages: numpy\n",
      "Successfully installed numpy-2.0.0\n",
      "\n",
      "\u001b[1m[\u001b[0m\u001b[34;49mnotice\u001b[0m\u001b[1;39;49m]\u001b[0m\u001b[39;49m A new release of pip is available: \u001b[0m\u001b[31;49m24.0\u001b[0m\u001b[39;49m -> \u001b[0m\u001b[32;49m24.3.1\u001b[0m\n",
      "\u001b[1m[\u001b[0m\u001b[34;49mnotice\u001b[0m\u001b[1;39;49m]\u001b[0m\u001b[39;49m To update, run: \u001b[0m\u001b[32;49mpip install --upgrade pip\u001b[0m\n",
      "Requirement already satisfied: pandas in /home/ccanamero/.pyenv/versions/3.11.0/lib/python3.11/site-packages (2.2.2)\n",
      "Requirement already satisfied: numpy>=1.23.2 in /home/ccanamero/.pyenv/versions/3.11.0/lib/python3.11/site-packages (from pandas) (2.0.0)\n",
      "Requirement already satisfied: python-dateutil>=2.8.2 in /home/ccanamero/.pyenv/versions/3.11.0/lib/python3.11/site-packages (from pandas) (2.9.0.post0)\n",
      "Requirement already satisfied: pytz>=2020.1 in /home/ccanamero/.pyenv/versions/3.11.0/lib/python3.11/site-packages (from pandas) (2024.1)\n",
      "Requirement already satisfied: tzdata>=2022.7 in /home/ccanamero/.pyenv/versions/3.11.0/lib/python3.11/site-packages (from pandas) (2024.1)\n",
      "Requirement already satisfied: six>=1.5 in /home/ccanamero/.pyenv/versions/3.11.0/lib/python3.11/site-packages (from python-dateutil>=2.8.2->pandas) (1.16.0)\n",
      "\n",
      "\u001b[1m[\u001b[0m\u001b[34;49mnotice\u001b[0m\u001b[1;39;49m]\u001b[0m\u001b[39;49m A new release of pip is available: \u001b[0m\u001b[31;49m24.0\u001b[0m\u001b[39;49m -> \u001b[0m\u001b[32;49m24.3.1\u001b[0m\n",
      "\u001b[1m[\u001b[0m\u001b[34;49mnotice\u001b[0m\u001b[1;39;49m]\u001b[0m\u001b[39;49m To update, run: \u001b[0m\u001b[32;49mpip install --upgrade pip\u001b[0m\n",
      "Requirement already satisfied: ydata_profiling in /home/ccanamero/.pyenv/versions/3.11.0/lib/python3.11/site-packages (4.11.0)\n",
      "Requirement already satisfied: scipy<1.14,>=1.4.1 in /home/ccanamero/.pyenv/versions/3.11.0/lib/python3.11/site-packages (from ydata_profiling) (1.13.1)\n",
      "Requirement already satisfied: pandas!=1.4.0,<3,>1.1 in /home/ccanamero/.pyenv/versions/3.11.0/lib/python3.11/site-packages (from ydata_profiling) (2.2.2)\n",
      "Requirement already satisfied: matplotlib<3.10,>=3.5 in /home/ccanamero/.pyenv/versions/3.11.0/lib/python3.11/site-packages (from ydata_profiling) (3.8.4)\n",
      "Requirement already satisfied: pydantic>=2 in /home/ccanamero/.pyenv/versions/3.11.0/lib/python3.11/site-packages (from ydata_profiling) (2.9.2)\n",
      "Requirement already satisfied: PyYAML<6.1,>=5.0.0 in /home/ccanamero/.pyenv/versions/3.11.0/lib/python3.11/site-packages (from ydata_profiling) (6.0.1)\n",
      "Requirement already satisfied: jinja2<3.2,>=2.11.1 in /home/ccanamero/.pyenv/versions/3.11.0/lib/python3.11/site-packages (from ydata_profiling) (3.1.3)\n",
      "Requirement already satisfied: visions<0.7.7,>=0.7.5 in /home/ccanamero/.pyenv/versions/3.11.0/lib/python3.11/site-packages (from visions[type_image_path]<0.7.7,>=0.7.5->ydata_profiling) (0.7.6)\n",
      "Requirement already satisfied: numpy<2.2,>=1.16.0 in /home/ccanamero/.pyenv/versions/3.11.0/lib/python3.11/site-packages (from ydata_profiling) (2.0.0)\n",
      "Requirement already satisfied: htmlmin==0.1.12 in /home/ccanamero/.pyenv/versions/3.11.0/lib/python3.11/site-packages (from ydata_profiling) (0.1.12)\n",
      "Requirement already satisfied: phik<0.13,>=0.11.1 in /home/ccanamero/.pyenv/versions/3.11.0/lib/python3.11/site-packages (from ydata_profiling) (0.12.4)\n",
      "Requirement already satisfied: requests<3,>=2.24.0 in /home/ccanamero/.pyenv/versions/3.11.0/lib/python3.11/site-packages (from ydata_profiling) (2.31.0)\n",
      "Requirement already satisfied: tqdm<5,>=4.48.2 in /home/ccanamero/.pyenv/versions/3.11.0/lib/python3.11/site-packages (from ydata_profiling) (4.66.5)\n",
      "Requirement already satisfied: seaborn<0.14,>=0.10.1 in /home/ccanamero/.pyenv/versions/3.11.0/lib/python3.11/site-packages (from ydata_profiling) (0.13.2)\n",
      "Requirement already satisfied: multimethod<2,>=1.4 in /home/ccanamero/.pyenv/versions/3.11.0/lib/python3.11/site-packages (from ydata_profiling) (1.12)\n",
      "Requirement already satisfied: statsmodels<1,>=0.13.2 in /home/ccanamero/.pyenv/versions/3.11.0/lib/python3.11/site-packages (from ydata_profiling) (0.14.4)\n",
      "Requirement already satisfied: typeguard<5,>=3 in /home/ccanamero/.pyenv/versions/3.11.0/lib/python3.11/site-packages (from ydata_profiling) (4.4.0)\n",
      "Requirement already satisfied: imagehash==4.3.1 in /home/ccanamero/.pyenv/versions/3.11.0/lib/python3.11/site-packages (from ydata_profiling) (4.3.1)\n",
      "Requirement already satisfied: wordcloud>=1.9.3 in /home/ccanamero/.pyenv/versions/3.11.0/lib/python3.11/site-packages (from ydata_profiling) (1.9.3)\n",
      "Requirement already satisfied: dacite>=1.8 in /home/ccanamero/.pyenv/versions/3.11.0/lib/python3.11/site-packages (from ydata_profiling) (1.8.1)\n",
      "Requirement already satisfied: numba<1,>=0.56.0 in /home/ccanamero/.pyenv/versions/3.11.0/lib/python3.11/site-packages (from ydata_profiling) (0.60.0)\n",
      "Requirement already satisfied: PyWavelets in /home/ccanamero/.pyenv/versions/3.11.0/lib/python3.11/site-packages (from imagehash==4.3.1->ydata_profiling) (1.7.0)\n",
      "Requirement already satisfied: pillow in /home/ccanamero/.pyenv/versions/3.11.0/lib/python3.11/site-packages (from imagehash==4.3.1->ydata_profiling) (10.3.0)\n",
      "Requirement already satisfied: MarkupSafe>=2.0 in /home/ccanamero/.pyenv/versions/3.11.0/lib/python3.11/site-packages (from jinja2<3.2,>=2.11.1->ydata_profiling) (2.1.5)\n",
      "Requirement already satisfied: contourpy>=1.0.1 in /home/ccanamero/.pyenv/versions/3.11.0/lib/python3.11/site-packages (from matplotlib<3.10,>=3.5->ydata_profiling) (1.2.1)\n",
      "Requirement already satisfied: cycler>=0.10 in /home/ccanamero/.pyenv/versions/3.11.0/lib/python3.11/site-packages (from matplotlib<3.10,>=3.5->ydata_profiling) (0.12.1)\n",
      "Requirement already satisfied: fonttools>=4.22.0 in /home/ccanamero/.pyenv/versions/3.11.0/lib/python3.11/site-packages (from matplotlib<3.10,>=3.5->ydata_profiling) (4.51.0)\n",
      "Requirement already satisfied: kiwisolver>=1.3.1 in /home/ccanamero/.pyenv/versions/3.11.0/lib/python3.11/site-packages (from matplotlib<3.10,>=3.5->ydata_profiling) (1.4.5)\n",
      "Requirement already satisfied: packaging>=20.0 in /home/ccanamero/.pyenv/versions/3.11.0/lib/python3.11/site-packages (from matplotlib<3.10,>=3.5->ydata_profiling) (24.0)\n",
      "Requirement already satisfied: pyparsing>=2.3.1 in /home/ccanamero/.pyenv/versions/3.11.0/lib/python3.11/site-packages (from matplotlib<3.10,>=3.5->ydata_profiling) (3.1.2)\n",
      "Requirement already satisfied: python-dateutil>=2.7 in /home/ccanamero/.pyenv/versions/3.11.0/lib/python3.11/site-packages (from matplotlib<3.10,>=3.5->ydata_profiling) (2.9.0.post0)\n",
      "Requirement already satisfied: llvmlite<0.44,>=0.43.0dev0 in /home/ccanamero/.pyenv/versions/3.11.0/lib/python3.11/site-packages (from numba<1,>=0.56.0->ydata_profiling) (0.43.0)\n",
      "Requirement already satisfied: pytz>=2020.1 in /home/ccanamero/.pyenv/versions/3.11.0/lib/python3.11/site-packages (from pandas!=1.4.0,<3,>1.1->ydata_profiling) (2024.1)\n",
      "Requirement already satisfied: tzdata>=2022.7 in /home/ccanamero/.pyenv/versions/3.11.0/lib/python3.11/site-packages (from pandas!=1.4.0,<3,>1.1->ydata_profiling) (2024.1)\n",
      "Requirement already satisfied: joblib>=0.14.1 in /home/ccanamero/.pyenv/versions/3.11.0/lib/python3.11/site-packages (from phik<0.13,>=0.11.1->ydata_profiling) (1.4.2)\n",
      "Requirement already satisfied: annotated-types>=0.6.0 in /home/ccanamero/.pyenv/versions/3.11.0/lib/python3.11/site-packages (from pydantic>=2->ydata_profiling) (0.7.0)\n",
      "Requirement already satisfied: pydantic-core==2.23.4 in /home/ccanamero/.pyenv/versions/3.11.0/lib/python3.11/site-packages (from pydantic>=2->ydata_profiling) (2.23.4)\n",
      "Requirement already satisfied: typing-extensions>=4.6.1 in /home/ccanamero/.pyenv/versions/3.11.0/lib/python3.11/site-packages (from pydantic>=2->ydata_profiling) (4.11.0)\n",
      "Requirement already satisfied: charset-normalizer<4,>=2 in /home/ccanamero/.pyenv/versions/3.11.0/lib/python3.11/site-packages (from requests<3,>=2.24.0->ydata_profiling) (3.3.2)\n",
      "Requirement already satisfied: idna<4,>=2.5 in /home/ccanamero/.pyenv/versions/3.11.0/lib/python3.11/site-packages (from requests<3,>=2.24.0->ydata_profiling) (3.6)\n",
      "Requirement already satisfied: urllib3<3,>=1.21.1 in /home/ccanamero/.pyenv/versions/3.11.0/lib/python3.11/site-packages (from requests<3,>=2.24.0->ydata_profiling) (2.2.1)\n",
      "Requirement already satisfied: certifi>=2017.4.17 in /home/ccanamero/.pyenv/versions/3.11.0/lib/python3.11/site-packages (from requests<3,>=2.24.0->ydata_profiling) (2024.2.2)\n",
      "Requirement already satisfied: patsy>=0.5.6 in /home/ccanamero/.pyenv/versions/3.11.0/lib/python3.11/site-packages (from statsmodels<1,>=0.13.2->ydata_profiling) (0.5.6)\n",
      "Requirement already satisfied: attrs>=19.3.0 in /home/ccanamero/.pyenv/versions/3.11.0/lib/python3.11/site-packages (from visions<0.7.7,>=0.7.5->visions[type_image_path]<0.7.7,>=0.7.5->ydata_profiling) (23.2.0)\n",
      "Requirement already satisfied: networkx>=2.4 in /home/ccanamero/.pyenv/versions/3.11.0/lib/python3.11/site-packages (from visions<0.7.7,>=0.7.5->visions[type_image_path]<0.7.7,>=0.7.5->ydata_profiling) (3.3)\n",
      "Requirement already satisfied: six in /home/ccanamero/.pyenv/versions/3.11.0/lib/python3.11/site-packages (from patsy>=0.5.6->statsmodels<1,>=0.13.2->ydata_profiling) (1.16.0)\n",
      "\n",
      "\u001b[1m[\u001b[0m\u001b[34;49mnotice\u001b[0m\u001b[1;39;49m]\u001b[0m\u001b[39;49m A new release of pip is available: \u001b[0m\u001b[31;49m24.0\u001b[0m\u001b[39;49m -> \u001b[0m\u001b[32;49m24.3.1\u001b[0m\n",
      "\u001b[1m[\u001b[0m\u001b[34;49mnotice\u001b[0m\u001b[1;39;49m]\u001b[0m\u001b[39;49m To update, run: \u001b[0m\u001b[32;49mpip install --upgrade pip\u001b[0m\n"
     ]
    }
   ],
   "source": [
    "!pip install ydata_profiling\n",
    "!pip uninstall -y numpy\n",
    "!pip install numpy==2.0.0\n",
    "!pip install pandas\n",
    "!pip install ydata_profiling"
   ]
  },
  {
   "cell_type": "markdown",
   "metadata": {},
   "source": [
    "Importar el dataset"
   ]
  },
  {
   "cell_type": "code",
   "execution_count": 3,
   "metadata": {},
   "outputs": [
    {
     "name": "stdout",
     "output_type": "stream",
     "text": [
      "Collecting ydata_profiling\n",
      "  Downloading ydata_profiling-4.11.0-py2.py3-none-any.whl.metadata (20 kB)\n",
      "Collecting scipy<1.14,>=1.4.1 (from ydata_profiling)\n",
      "  Downloading scipy-1.13.1-cp311-cp311-manylinux_2_17_x86_64.manylinux2014_x86_64.whl.metadata (60 kB)\n",
      "\u001b[2K     \u001b[90m━━━━━━━━━━━━━━━━━━━━━━━━━━━━━━━━━━━━━━━━\u001b[0m \u001b[32m60.6/60.6 kB\u001b[0m \u001b[31m1.8 MB/s\u001b[0m eta \u001b[36m0:00:00\u001b[0m\n",
      "\u001b[?25hRequirement already satisfied: pandas!=1.4.0,<3,>1.1 in /home/ccanamero/.pyenv/versions/3.11.0/lib/python3.11/site-packages (from ydata_profiling) (2.2.2)\n",
      "Requirement already satisfied: matplotlib<3.10,>=3.5 in /home/ccanamero/.pyenv/versions/3.11.0/lib/python3.11/site-packages (from ydata_profiling) (3.8.4)\n",
      "Collecting pydantic>=2 (from ydata_profiling)\n",
      "  Using cached pydantic-2.9.2-py3-none-any.whl.metadata (149 kB)\n",
      "Requirement already satisfied: PyYAML<6.1,>=5.0.0 in /home/ccanamero/.pyenv/versions/3.11.0/lib/python3.11/site-packages (from ydata_profiling) (6.0.1)\n",
      "Requirement already satisfied: jinja2<3.2,>=2.11.1 in /home/ccanamero/.pyenv/versions/3.11.0/lib/python3.11/site-packages (from ydata_profiling) (3.1.3)\n",
      "Collecting visions<0.7.7,>=0.7.5 (from visions[type_image_path]<0.7.7,>=0.7.5->ydata_profiling)\n",
      "  Using cached visions-0.7.6-py3-none-any.whl.metadata (11 kB)\n",
      "Requirement already satisfied: numpy<2.2,>=1.16.0 in /home/ccanamero/.pyenv/versions/3.11.0/lib/python3.11/site-packages (from ydata_profiling) (1.26.4)\n",
      "Collecting htmlmin==0.1.12 (from ydata_profiling)\n",
      "  Using cached htmlmin-0.1.12.tar.gz (19 kB)\n",
      "  Installing build dependencies ... \u001b[?25ldone\n",
      "\u001b[?25h  Getting requirements to build wheel ... \u001b[?25ldone\n",
      "\u001b[?25h  Preparing metadata (pyproject.toml) ... \u001b[?25ldone\n",
      "\u001b[?25hCollecting phik<0.13,>=0.11.1 (from ydata_profiling)\n",
      "  Downloading phik-0.12.4-cp311-cp311-manylinux_2_17_x86_64.manylinux2014_x86_64.whl.metadata (5.6 kB)\n",
      "Requirement already satisfied: requests<3,>=2.24.0 in /home/ccanamero/.pyenv/versions/3.11.0/lib/python3.11/site-packages (from ydata_profiling) (2.31.0)\n",
      "Requirement already satisfied: tqdm<5,>=4.48.2 in /home/ccanamero/.pyenv/versions/3.11.0/lib/python3.11/site-packages (from ydata_profiling) (4.66.5)\n",
      "Requirement already satisfied: seaborn<0.14,>=0.10.1 in /home/ccanamero/.pyenv/versions/3.11.0/lib/python3.11/site-packages (from ydata_profiling) (0.13.2)\n",
      "Collecting multimethod<2,>=1.4 (from ydata_profiling)\n",
      "  Using cached multimethod-1.12-py3-none-any.whl.metadata (9.6 kB)\n",
      "Collecting statsmodels<1,>=0.13.2 (from ydata_profiling)\n",
      "  Downloading statsmodels-0.14.4-cp311-cp311-manylinux_2_17_x86_64.manylinux2014_x86_64.whl.metadata (9.2 kB)\n",
      "Collecting typeguard<5,>=3 (from ydata_profiling)\n",
      "  Downloading typeguard-4.4.0-py3-none-any.whl.metadata (3.8 kB)\n",
      "Collecting imagehash==4.3.1 (from ydata_profiling)\n",
      "  Using cached ImageHash-4.3.1-py2.py3-none-any.whl.metadata (8.0 kB)\n",
      "Collecting wordcloud>=1.9.3 (from ydata_profiling)\n",
      "  Downloading wordcloud-1.9.3-cp311-cp311-manylinux_2_17_x86_64.manylinux2014_x86_64.whl.metadata (3.4 kB)\n",
      "Collecting dacite>=1.8 (from ydata_profiling)\n",
      "  Using cached dacite-1.8.1-py3-none-any.whl.metadata (15 kB)\n",
      "Collecting numba<1,>=0.56.0 (from ydata_profiling)\n",
      "  Downloading numba-0.60.0-cp311-cp311-manylinux2014_x86_64.manylinux_2_17_x86_64.whl.metadata (2.7 kB)\n",
      "Collecting PyWavelets (from imagehash==4.3.1->ydata_profiling)\n",
      "  Downloading pywavelets-1.7.0-cp311-cp311-manylinux_2_17_x86_64.manylinux2014_x86_64.whl.metadata (9.0 kB)\n",
      "Requirement already satisfied: pillow in /home/ccanamero/.pyenv/versions/3.11.0/lib/python3.11/site-packages (from imagehash==4.3.1->ydata_profiling) (10.3.0)\n",
      "Requirement already satisfied: MarkupSafe>=2.0 in /home/ccanamero/.pyenv/versions/3.11.0/lib/python3.11/site-packages (from jinja2<3.2,>=2.11.1->ydata_profiling) (2.1.5)\n",
      "Requirement already satisfied: contourpy>=1.0.1 in /home/ccanamero/.pyenv/versions/3.11.0/lib/python3.11/site-packages (from matplotlib<3.10,>=3.5->ydata_profiling) (1.2.1)\n",
      "Requirement already satisfied: cycler>=0.10 in /home/ccanamero/.pyenv/versions/3.11.0/lib/python3.11/site-packages (from matplotlib<3.10,>=3.5->ydata_profiling) (0.12.1)\n",
      "Requirement already satisfied: fonttools>=4.22.0 in /home/ccanamero/.pyenv/versions/3.11.0/lib/python3.11/site-packages (from matplotlib<3.10,>=3.5->ydata_profiling) (4.51.0)\n",
      "Requirement already satisfied: kiwisolver>=1.3.1 in /home/ccanamero/.pyenv/versions/3.11.0/lib/python3.11/site-packages (from matplotlib<3.10,>=3.5->ydata_profiling) (1.4.5)\n",
      "Requirement already satisfied: packaging>=20.0 in /home/ccanamero/.pyenv/versions/3.11.0/lib/python3.11/site-packages (from matplotlib<3.10,>=3.5->ydata_profiling) (24.0)\n",
      "Requirement already satisfied: pyparsing>=2.3.1 in /home/ccanamero/.pyenv/versions/3.11.0/lib/python3.11/site-packages (from matplotlib<3.10,>=3.5->ydata_profiling) (3.1.2)\n",
      "Requirement already satisfied: python-dateutil>=2.7 in /home/ccanamero/.pyenv/versions/3.11.0/lib/python3.11/site-packages (from matplotlib<3.10,>=3.5->ydata_profiling) (2.9.0.post0)\n",
      "Collecting llvmlite<0.44,>=0.43.0dev0 (from numba<1,>=0.56.0->ydata_profiling)\n",
      "  Downloading llvmlite-0.43.0-cp311-cp311-manylinux_2_17_x86_64.manylinux2014_x86_64.whl.metadata (4.8 kB)\n",
      "Requirement already satisfied: pytz>=2020.1 in /home/ccanamero/.pyenv/versions/3.11.0/lib/python3.11/site-packages (from pandas!=1.4.0,<3,>1.1->ydata_profiling) (2024.1)\n",
      "Requirement already satisfied: tzdata>=2022.7 in /home/ccanamero/.pyenv/versions/3.11.0/lib/python3.11/site-packages (from pandas!=1.4.0,<3,>1.1->ydata_profiling) (2024.1)\n",
      "Requirement already satisfied: joblib>=0.14.1 in /home/ccanamero/.pyenv/versions/3.11.0/lib/python3.11/site-packages (from phik<0.13,>=0.11.1->ydata_profiling) (1.4.2)\n",
      "Collecting annotated-types>=0.6.0 (from pydantic>=2->ydata_profiling)\n",
      "  Using cached annotated_types-0.7.0-py3-none-any.whl.metadata (15 kB)\n",
      "Collecting pydantic-core==2.23.4 (from pydantic>=2->ydata_profiling)\n",
      "  Downloading pydantic_core-2.23.4-cp311-cp311-manylinux_2_17_x86_64.manylinux2014_x86_64.whl.metadata (6.6 kB)\n",
      "Requirement already satisfied: typing-extensions>=4.6.1 in /home/ccanamero/.pyenv/versions/3.11.0/lib/python3.11/site-packages (from pydantic>=2->ydata_profiling) (4.11.0)\n",
      "Requirement already satisfied: charset-normalizer<4,>=2 in /home/ccanamero/.pyenv/versions/3.11.0/lib/python3.11/site-packages (from requests<3,>=2.24.0->ydata_profiling) (3.3.2)\n",
      "Requirement already satisfied: idna<4,>=2.5 in /home/ccanamero/.pyenv/versions/3.11.0/lib/python3.11/site-packages (from requests<3,>=2.24.0->ydata_profiling) (3.6)\n",
      "Requirement already satisfied: urllib3<3,>=1.21.1 in /home/ccanamero/.pyenv/versions/3.11.0/lib/python3.11/site-packages (from requests<3,>=2.24.0->ydata_profiling) (2.2.1)\n",
      "Requirement already satisfied: certifi>=2017.4.17 in /home/ccanamero/.pyenv/versions/3.11.0/lib/python3.11/site-packages (from requests<3,>=2.24.0->ydata_profiling) (2024.2.2)\n",
      "Collecting patsy>=0.5.6 (from statsmodels<1,>=0.13.2->ydata_profiling)\n",
      "  Using cached patsy-0.5.6-py2.py3-none-any.whl.metadata (3.5 kB)\n",
      "Requirement already satisfied: attrs>=19.3.0 in /home/ccanamero/.pyenv/versions/3.11.0/lib/python3.11/site-packages (from visions<0.7.7,>=0.7.5->visions[type_image_path]<0.7.7,>=0.7.5->ydata_profiling) (23.2.0)\n",
      "Requirement already satisfied: networkx>=2.4 in /home/ccanamero/.pyenv/versions/3.11.0/lib/python3.11/site-packages (from visions<0.7.7,>=0.7.5->visions[type_image_path]<0.7.7,>=0.7.5->ydata_profiling) (3.3)\n",
      "Requirement already satisfied: six in /home/ccanamero/.pyenv/versions/3.11.0/lib/python3.11/site-packages (from patsy>=0.5.6->statsmodels<1,>=0.13.2->ydata_profiling) (1.16.0)\n",
      "Downloading ydata_profiling-4.11.0-py2.py3-none-any.whl (390 kB)\n",
      "\u001b[2K   \u001b[90m━━━━━━━━━━━━━━━━━━━━━━━━━━━━━━━━━━━━━━━━\u001b[0m \u001b[32m390.0/390.0 kB\u001b[0m \u001b[31m7.3 MB/s\u001b[0m eta \u001b[36m0:00:00\u001b[0ma \u001b[36m0:00:01\u001b[0m\n",
      "\u001b[?25hUsing cached ImageHash-4.3.1-py2.py3-none-any.whl (296 kB)\n",
      "Using cached dacite-1.8.1-py3-none-any.whl (14 kB)\n",
      "Using cached multimethod-1.12-py3-none-any.whl (10 kB)\n",
      "Downloading numba-0.60.0-cp311-cp311-manylinux2014_x86_64.manylinux_2_17_x86_64.whl (3.7 MB)\n",
      "\u001b[2K   \u001b[90m━━━━━━━━━━━━━━━━━━━━━━━━━━━━━━━━━━━━━━━━\u001b[0m \u001b[32m3.7/3.7 MB\u001b[0m \u001b[31m11.1 MB/s\u001b[0m eta \u001b[36m0:00:00\u001b[0m00:01\u001b[0m00:01\u001b[0m\n",
      "\u001b[?25hDownloading phik-0.12.4-cp311-cp311-manylinux_2_17_x86_64.manylinux2014_x86_64.whl (687 kB)\n",
      "\u001b[2K   \u001b[90m━━━━━━━━━━━━━━━━━━━━━━━━━━━━━━━━━━━━━━━━\u001b[0m \u001b[32m687.8/687.8 kB\u001b[0m \u001b[31m10.1 MB/s\u001b[0m eta \u001b[36m0:00:00\u001b[0m00:01\u001b[0m00:01\u001b[0m\n",
      "\u001b[?25hUsing cached pydantic-2.9.2-py3-none-any.whl (434 kB)\n",
      "Downloading pydantic_core-2.23.4-cp311-cp311-manylinux_2_17_x86_64.manylinux2014_x86_64.whl (2.1 MB)\n",
      "\u001b[2K   \u001b[90m━━━━━━━━━━━━━━━━━━━━━━━━━━━━━━━━━━━━━━━━\u001b[0m \u001b[32m2.1/2.1 MB\u001b[0m \u001b[31m10.9 MB/s\u001b[0m eta \u001b[36m0:00:00\u001b[0m00:01\u001b[0m00:01\u001b[0m\n",
      "\u001b[?25hDownloading scipy-1.13.1-cp311-cp311-manylinux_2_17_x86_64.manylinux2014_x86_64.whl (38.6 MB)\n",
      "\u001b[2K   \u001b[90m━━━━━━━━━━━━━━━━━━━━━━━━━━━━━━━━━━━━━━━━\u001b[0m \u001b[32m38.6/38.6 MB\u001b[0m \u001b[31m10.2 MB/s\u001b[0m eta \u001b[36m0:00:00\u001b[0m00:01\u001b[0m00:01\u001b[0m\n",
      "\u001b[?25hDownloading statsmodels-0.14.4-cp311-cp311-manylinux_2_17_x86_64.manylinux2014_x86_64.whl (10.8 MB)\n",
      "\u001b[2K   \u001b[90m━━━━━━━━━━━━━━━━━━━━━━━━━━━━━━━━━━━━━━━━\u001b[0m \u001b[32m10.8/10.8 MB\u001b[0m \u001b[31m11.1 MB/s\u001b[0m eta \u001b[36m0:00:00\u001b[0m00:01\u001b[0m00:01\u001b[0m\n",
      "\u001b[?25hDownloading typeguard-4.4.0-py3-none-any.whl (35 kB)\n",
      "Using cached visions-0.7.6-py3-none-any.whl (104 kB)\n",
      "Downloading wordcloud-1.9.3-cp311-cp311-manylinux_2_17_x86_64.manylinux2014_x86_64.whl (548 kB)\n",
      "\u001b[2K   \u001b[90m━━━━━━━━━━━━━━━━━━━━━━━━━━━━━━━━━━━━━━━━\u001b[0m \u001b[32m548.3/548.3 kB\u001b[0m \u001b[31m9.4 MB/s\u001b[0m eta \u001b[36m0:00:00\u001b[0mta \u001b[36m0:00:01\u001b[0m\n",
      "\u001b[?25hUsing cached annotated_types-0.7.0-py3-none-any.whl (13 kB)\n",
      "Downloading llvmlite-0.43.0-cp311-cp311-manylinux_2_17_x86_64.manylinux2014_x86_64.whl (43.9 MB)\n",
      "\u001b[2K   \u001b[90m━━━━━━━━━━━━━━━━━━━━━━━━━━━━━━━━━━━━━━━━\u001b[0m \u001b[32m43.9/43.9 MB\u001b[0m \u001b[31m9.1 MB/s\u001b[0m eta \u001b[36m0:00:00\u001b[0m:00:01\u001b[0m00:01\u001b[0m\n",
      "\u001b[?25hUsing cached patsy-0.5.6-py2.py3-none-any.whl (233 kB)\n",
      "Downloading pywavelets-1.7.0-cp311-cp311-manylinux_2_17_x86_64.manylinux2014_x86_64.whl (4.5 MB)\n",
      "\u001b[2K   \u001b[90m━━━━━━━━━━━━━━━━━━━━━━━━━━━━━━━━━━━━━━━━\u001b[0m \u001b[32m4.5/4.5 MB\u001b[0m \u001b[31m10.9 MB/s\u001b[0m eta \u001b[36m0:00:00\u001b[0m00:01\u001b[0m00:01\u001b[0m\n",
      "\u001b[?25hBuilding wheels for collected packages: htmlmin\n",
      "  Building wheel for htmlmin (pyproject.toml) ... \u001b[?25ldone\n",
      "\u001b[?25h  Created wheel for htmlmin: filename=htmlmin-0.1.12-py3-none-any.whl size=27081 sha256=454a6109507404d5cfbfd4ac6f2b3191ae0e8f905381d1ddea226290b2c7a0c2\n",
      "  Stored in directory: /home/ccanamero/.cache/pip/wheels/8d/55/1a/19cd535375ed1ede0c996405ebffe34b196d78e2d9545723a2\n",
      "Successfully built htmlmin\n",
      "Installing collected packages: htmlmin, typeguard, scipy, PyWavelets, pydantic-core, patsy, multimethod, llvmlite, dacite, annotated-types, pydantic, numba, imagehash, wordcloud, visions, statsmodels, phik, ydata_profiling\n",
      "  Attempting uninstall: scipy\n",
      "    Found existing installation: scipy 1.14.0\n",
      "    Uninstalling scipy-1.14.0:\n",
      "      Successfully uninstalled scipy-1.14.0\n",
      "Successfully installed PyWavelets-1.7.0 annotated-types-0.7.0 dacite-1.8.1 htmlmin-0.1.12 imagehash-4.3.1 llvmlite-0.43.0 multimethod-1.12 numba-0.60.0 patsy-0.5.6 phik-0.12.4 pydantic-2.9.2 pydantic-core-2.23.4 scipy-1.13.1 statsmodels-0.14.4 typeguard-4.4.0 visions-0.7.6 wordcloud-1.9.3 ydata_profiling-4.11.0\n",
      "\n",
      "\u001b[1m[\u001b[0m\u001b[34;49mnotice\u001b[0m\u001b[1;39;49m]\u001b[0m\u001b[39;49m A new release of pip is available: \u001b[0m\u001b[31;49m24.0\u001b[0m\u001b[39;49m -> \u001b[0m\u001b[32;49m24.2\u001b[0m\n",
      "\u001b[1m[\u001b[0m\u001b[34;49mnotice\u001b[0m\u001b[1;39;49m]\u001b[0m\u001b[39;49m To update, run: \u001b[0m\u001b[32;49mpip install --upgrade pip\u001b[0m\n"
     ]
    }
   ],
   "source": [
    "!pip install ydata_profiling"
   ]
  },
  {
   "cell_type": "code",
   "execution_count": 5,
   "metadata": {},
   "outputs": [
    {
     "data": {
      "application/vnd.jupyter.widget-view+json": {
       "model_id": "8fac7de5e0b049e08946156a58a501c7",
       "version_major": 2,
       "version_minor": 0
      },
      "text/plain": [
       "Summarize dataset:   0%|          | 0/5 [00:00<?, ?it/s]"
      ]
     },
     "metadata": {},
     "output_type": "display_data"
    },
    {
     "data": {
      "application/vnd.jupyter.widget-view+json": {
       "model_id": "55f8270b794b40b6a0f824854f6d9326",
       "version_major": 2,
       "version_minor": 0
      },
      "text/plain": [
       "Generate report structure:   0%|          | 0/1 [00:00<?, ?it/s]"
      ]
     },
     "metadata": {},
     "output_type": "display_data"
    },
    {
     "data": {
      "application/vnd.jupyter.widget-view+json": {
       "model_id": "24397467ccd8412c8bbd55664b563a75",
       "version_major": 2,
       "version_minor": 0
      },
      "text/plain": [
       "Render HTML:   0%|          | 0/1 [00:00<?, ?it/s]"
      ]
     },
     "metadata": {},
     "output_type": "display_data"
    },
    {
     "data": {
      "application/vnd.jupyter.widget-view+json": {
       "model_id": "351f4b68e33c4f51a36a3aecb107529d",
       "version_major": 2,
       "version_minor": 0
      },
      "text/plain": [
       "Export report to file:   0%|          | 0/1 [00:00<?, ?it/s]"
      ]
     },
     "metadata": {},
     "output_type": "display_data"
    }
   ],
   "source": [
    "\n",
    "import pandas as pd\n",
    "from ydata_profiling import ProfileReport\n",
    "\n",
    "df_mat = pd.read_csv('student/student-mat.csv', delimiter=';')\n",
    "profile_mat = ProfileReport(df_mat, title=\"Profiling Report - Math course\")\n",
    "profile_mat.to_file(output_file=\"analysis-mat.html\")"
   ]
  },
  {
   "cell_type": "code",
   "execution_count": 7,
   "metadata": {},
   "outputs": [
    {
     "data": {
      "application/vnd.jupyter.widget-view+json": {
       "model_id": "0c2eb76dc7ba454e82f1ebb5cc159054",
       "version_major": 2,
       "version_minor": 0
      },
      "text/plain": [
       "Summarize dataset:   0%|          | 0/5 [00:00<?, ?it/s]"
      ]
     },
     "metadata": {},
     "output_type": "display_data"
    },
    {
     "data": {
      "application/vnd.jupyter.widget-view+json": {
       "model_id": "6d92804b83f84faeb7d25a812ea4013b",
       "version_major": 2,
       "version_minor": 0
      },
      "text/plain": [
       "Generate report structure:   0%|          | 0/1 [00:00<?, ?it/s]"
      ]
     },
     "metadata": {},
     "output_type": "display_data"
    },
    {
     "data": {
      "application/vnd.jupyter.widget-view+json": {
       "model_id": "8504b2b87d154f4eadcd7b85c87b5baa",
       "version_major": 2,
       "version_minor": 0
      },
      "text/plain": [
       "Render HTML:   0%|          | 0/1 [00:00<?, ?it/s]"
      ]
     },
     "metadata": {},
     "output_type": "display_data"
    },
    {
     "data": {
      "application/vnd.jupyter.widget-view+json": {
       "model_id": "35bcbaf280344ee395ec02be29a1b02e",
       "version_major": 2,
       "version_minor": 0
      },
      "text/plain": [
       "Export report to file:   0%|          | 0/1 [00:00<?, ?it/s]"
      ]
     },
     "metadata": {},
     "output_type": "display_data"
    }
   ],
   "source": [
    "df_por = pd.read_csv('student/student-por.csv', delimiter=';')\n",
    "profile_por = ProfileReport(df_por, title=\"Profiling Report - Portuguese language course\")\n",
    "profile_por.to_file(output_file=\"analysis-por.html\")"
   ]
  },
  {
   "cell_type": "code",
   "execution_count": 1,
   "metadata": {},
   "outputs": [
    {
     "data": {
      "application/vnd.jupyter.widget-view+json": {
       "model_id": "1844a6aeb2804eb89aabcde214145856",
       "version_major": 2,
       "version_minor": 0
      },
      "text/plain": [
       "Summarize dataset:   0%|          | 0/5 [00:00<?, ?it/s]"
      ]
     },
     "metadata": {},
     "output_type": "display_data"
    },
    {
     "data": {
      "application/vnd.jupyter.widget-view+json": {
       "model_id": "f80f9dfed1bb4f79a6ee52e70c9f68a8",
       "version_major": 2,
       "version_minor": 0
      },
      "text/plain": [
       "Generate report structure:   0%|          | 0/1 [00:00<?, ?it/s]"
      ]
     },
     "metadata": {},
     "output_type": "display_data"
    },
    {
     "data": {
      "application/vnd.jupyter.widget-view+json": {
       "model_id": "e2fef9177dbb4ea8bbe4305aad4f2b46",
       "version_major": 2,
       "version_minor": 0
      },
      "text/plain": [
       "Render HTML:   0%|          | 0/1 [00:00<?, ?it/s]"
      ]
     },
     "metadata": {},
     "output_type": "display_data"
    },
    {
     "data": {
      "application/vnd.jupyter.widget-view+json": {
       "model_id": "87805186612541cc9fca99a9f90233f7",
       "version_major": 2,
       "version_minor": 0
      },
      "text/plain": [
       "Export report to file:   0%|          | 0/1 [00:00<?, ?it/s]"
      ]
     },
     "metadata": {},
     "output_type": "display_data"
    }
   ],
   "source": [
    "import pandas as pd\n",
    "from ydata_profiling import ProfileReport\n",
    "df_merge = pd.read_csv('student/merged_students.csv', delimiter=';')\n",
    "profile_por = ProfileReport(df_merge, title=\"Profiling Report - Merged students\")\n",
    "profile_por.to_file(output_file=\"analysis-merged.html\")"
   ]
  },
  {
   "cell_type": "code",
   "execution_count": 20,
   "metadata": {},
   "outputs": [
    {
     "data": {
      "application/vnd.jupyter.widget-view+json": {
       "model_id": "8d591eb67a534c40b9797e59c513c077",
       "version_major": 2,
       "version_minor": 0
      },
      "text/plain": [
       "Summarize dataset:   0%|          | 0/5 [00:00<?, ?it/s]"
      ]
     },
     "metadata": {},
     "output_type": "display_data"
    },
    {
     "data": {
      "application/vnd.jupyter.widget-view+json": {
       "model_id": "c87f82c829314023938d2d5656cc19b7",
       "version_major": 2,
       "version_minor": 0
      },
      "text/plain": [
       "Generate report structure:   0%|          | 0/1 [00:00<?, ?it/s]"
      ]
     },
     "metadata": {},
     "output_type": "display_data"
    },
    {
     "data": {
      "application/vnd.jupyter.widget-view+json": {
       "model_id": "8a9cbdb1bb3b4a88bb84773018942644",
       "version_major": 2,
       "version_minor": 0
      },
      "text/plain": [
       "Render HTML:   0%|          | 0/1 [00:00<?, ?it/s]"
      ]
     },
     "metadata": {},
     "output_type": "display_data"
    },
    {
     "data": {
      "application/vnd.jupyter.widget-view+json": {
       "model_id": "400a82c3c1984203aecf705d93f17c90",
       "version_major": 2,
       "version_minor": 0
      },
      "text/plain": [
       "Export report to file:   0%|          | 0/1 [00:00<?, ?it/s]"
      ]
     },
     "metadata": {},
     "output_type": "display_data"
    }
   ],
   "source": [
    "import pandas as pd\n",
    "from ydata_profiling import ProfileReport\n",
    "df_merge = pd.read_csv('Datasets_modificados/matematicas/mat-cleanned.csv', delimiter=';')\n",
    "profile_por = ProfileReport(df_merge, title=\"Profiling Report - Mat cleanned students\")\n",
    "profile_por.to_file(output_file=\"analysis-merged.html\")"
   ]
  },
  {
   "cell_type": "code",
   "execution_count": null,
   "metadata": {},
   "outputs": [],
   "source": [
    "import pandas as pd\n",
    "from ydata_profiling import ProfileReport\n",
    "df_merge = pd.read_csv('student/merged_students.csv', delimiter=';')\n",
    "profile_por = ProfileReport(df_merge, title=\"Profiling Report - Merged students\")\n",
    "profile_por.to_file(output_file=\"analysis-merged.html\")"
   ]
  }
 ],
 "metadata": {
  "kernelspec": {
   "display_name": "pr-1",
   "language": "python",
   "name": "python3"
  },
  "language_info": {
   "codemirror_mode": {
    "name": "ipython",
    "version": 3
   },
   "file_extension": ".py",
   "mimetype": "text/x-python",
   "name": "python",
   "nbconvert_exporter": "python",
   "pygments_lexer": "ipython3",
   "version": "3.11.0"
  }
 },
 "nbformat": 4,
 "nbformat_minor": 2
}
