{
 "cells": [
  {
   "cell_type": "code",
   "execution_count": 1,
   "metadata": {},
   "outputs": [
    {
     "name": "stdout",
     "output_type": "stream",
     "text": [
      "\u001b[33mWARNING: Retrying (Retry(total=4, connect=None, read=None, redirect=None, status=None)) after connection broken by 'NewConnectionError('<pip._vendor.urllib3.connection.HTTPSConnection object at 0x7766c6ac74d0>: Failed to establish a new connection: [Errno -2] Nombre o servicio desconocido')': /simple/ydata-profiling/\u001b[0m\u001b[33m\n",
      "\u001b[0m\u001b[33mWARNING: Retrying (Retry(total=3, connect=None, read=None, redirect=None, status=None)) after connection broken by 'NewConnectionError('<pip._vendor.urllib3.connection.HTTPSConnection object at 0x7766c6988690>: Failed to establish a new connection: [Errno -2] Nombre o servicio desconocido')': /simple/ydata-profiling/\u001b[0m\u001b[33m\n",
      "\u001b[0m\u001b[33mWARNING: Retrying (Retry(total=2, connect=None, read=None, redirect=None, status=None)) after connection broken by 'NewConnectionError('<pip._vendor.urllib3.connection.HTTPSConnection object at 0x7766c6988910>: Failed to establish a new connection: [Errno -2] Nombre o servicio desconocido')': /simple/ydata-profiling/\u001b[0m\u001b[33m\n",
      "\u001b[0m\u001b[31mERROR: Ignored the following versions that require a different python version: 4.0.0 Requires-Python >=3.7, <3.11; 4.1.0 Requires-Python >=3.7, <3.12; 4.1.1 Requires-Python >=3.7, <3.12; 4.1.2 Requires-Python >=3.7, <3.12; 4.10.0 Requires-Python <3.13,>=3.7; 4.11.0 Requires-Python <3.13,>=3.7; 4.2.0 Requires-Python >=3.7, <3.12; 4.3.0 Requires-Python >=3.7, <3.12; 4.3.1 Requires-Python >=3.7, <3.12; 4.3.2 Requires-Python >=3.7, <3.12; 4.4.0 Requires-Python >=3.7, <3.12; 4.5.0 Requires-Python >=3.7, <3.12; 4.5.1 Requires-Python >=3.7, <3.12; 4.6.0 Requires-Python >=3.7, <3.12; 4.6.1 Requires-Python >=3.7, <3.12; 4.6.2 Requires-Python >=3.7, <3.12; 4.6.3 Requires-Python >=3.7, <3.12; 4.6.4 Requires-Python >=3.7, <3.12; 4.6.5 Requires-Python >=3.7, <3.12; 4.7.0 Requires-Python >=3.7, <3.13; 4.8.3 Requires-Python <3.13,>=3.7; 4.9.0 Requires-Python <3.13,>=3.7\u001b[0m\u001b[31m\n",
      "\u001b[0m\u001b[31mERROR: Could not find a version that satisfies the requirement ydata_profiling (from versions: none)\u001b[0m\u001b[31m\n",
      "\u001b[0m\u001b[31mERROR: No matching distribution found for ydata_profiling\u001b[0m\u001b[31m\n",
      "\u001b[0mFound existing installation: numpy 2.1.2\n",
      "Uninstalling numpy-2.1.2:\n",
      "  Successfully uninstalled numpy-2.1.2\n",
      "Collecting numpy==2.0.0\n",
      "  Downloading numpy-2.0.0.tar.gz (18.3 MB)\n",
      "\u001b[2K     \u001b[90m━━━━━━━━━━━━━━━━━━━━━━━━━━━━━━━━━━━━━━━━\u001b[0m \u001b[32m18.3/18.3 MB\u001b[0m \u001b[31m2.2 MB/s\u001b[0m eta \u001b[36m0:00:00\u001b[0m00:01\u001b[0m00:01\u001b[0m\n",
      "\u001b[?25h  Installing build dependencies ... \u001b[?25ldone\n",
      "\u001b[?25h  Getting requirements to build wheel ... \u001b[?25ldone\n",
      "\u001b[?25h  Installing backend dependencies ... \u001b[?25ldone\n",
      "\u001b[?25h  Preparing metadata (pyproject.toml) ... \u001b[?25ldone\n",
      "\u001b[?25hBuilding wheels for collected packages: numpy\n",
      "  Building wheel for numpy (pyproject.toml) ... \u001b[?25ldone\n",
      "\u001b[?25h  Created wheel for numpy: filename=numpy-2.0.0-cp313-cp313-linux_x86_64.whl size=7867914 sha256=266463edb03fa34006a301417256c2cc6d6423145d307401dc71ffd8aeedd5f1\n",
      "  Stored in directory: /home/ccanamero/.cache/pip/wheels/e0/d3/66/30d07c18e56ac859b5e8d3ceaf22f093a09bae124a472b85d1\n",
      "Successfully built numpy\n",
      "Installing collected packages: numpy\n",
      "Successfully installed numpy-2.0.0\n"
     ]
    }
   ],
   "source": [
    "!pip install ydata_profiling\n",
    "!pip uninstall -y numpy\n",
    "!pip install numpy==2.0.0\n",
    "!pip install pandas\n",
    "!pip install ydata_profiling"
   ]
  },
  {
   "cell_type": "markdown",
   "metadata": {},
   "source": [
    "Importar el dataset"
   ]
  },
  {
   "cell_type": "code",
   "execution_count": 1,
   "metadata": {},
   "outputs": [
    {
     "name": "stdout",
     "output_type": "stream",
     "text": [
      "Collecting ydata_profiling\n",
      "  Downloading ydata_profiling-4.11.0-py2.py3-none-any.whl (390 kB)\n",
      "\u001b[K     |████████████████████████████████| 390 kB 2.4 MB/s eta 0:00:01\n",
      "\u001b[?25hCollecting scipy<1.14,>=1.4.1\n",
      "  Downloading scipy-1.13.1-cp39-cp39-manylinux_2_17_x86_64.manylinux2014_x86_64.whl (38.6 MB)\n",
      "\u001b[K     |████████████████████████████████| 38.6 MB 5.6 MB/s eta 0:00:01\n",
      "\u001b[?25hCollecting matplotlib<3.10,>=3.5\n",
      "  Downloading matplotlib-3.9.2-cp39-cp39-manylinux_2_17_x86_64.manylinux2014_x86_64.whl (8.3 MB)\n",
      "\u001b[K     |████████████████████████████████| 8.3 MB 5.4 MB/s eta 0:00:01\n",
      "\u001b[?25hCollecting numpy<2.2,>=1.16.0\n",
      "  Downloading numpy-2.0.2-cp39-cp39-manylinux_2_17_x86_64.manylinux2014_x86_64.whl (19.5 MB)\n",
      "\u001b[K     |████████████████████████████████| 19.5 MB 4.7 MB/s eta 0:00:01    |████████████▌                   | 7.7 MB 3.9 MB/s eta 0:00:04\n",
      "\u001b[?25hCollecting pydantic>=2\n",
      "  Downloading pydantic-2.9.2-py3-none-any.whl (434 kB)\n",
      "\u001b[K     |████████████████████████████████| 434 kB 3.9 MB/s eta 0:00:01\n",
      "\u001b[?25hCollecting visions[type_image_path]<0.7.7,>=0.7.5\n",
      "  Downloading visions-0.7.6-py3-none-any.whl (104 kB)\n",
      "\u001b[K     |████████████████████████████████| 104 kB 4.8 MB/s eta 0:00:01\n",
      "\u001b[?25hCollecting dacite>=1.8\n",
      "  Downloading dacite-1.8.1-py3-none-any.whl (14 kB)\n",
      "Collecting statsmodels<1,>=0.13.2\n",
      "  Downloading statsmodels-0.14.4-cp39-cp39-manylinux_2_17_x86_64.manylinux2014_x86_64.whl (10.8 MB)\n",
      "\u001b[K     |████████████████████████████████| 10.8 MB 4.7 MB/s eta 0:00:01\n",
      "\u001b[?25hCollecting htmlmin==0.1.12\n",
      "  Downloading htmlmin-0.1.12.tar.gz (19 kB)\n",
      "Collecting PyYAML<6.1,>=5.0.0\n",
      "  Downloading PyYAML-6.0.2-cp39-cp39-manylinux_2_17_x86_64.manylinux2014_x86_64.whl (737 kB)\n",
      "\u001b[K     |████████████████████████████████| 737 kB 5.6 MB/s eta 0:00:01\n",
      "\u001b[?25hCollecting imagehash==4.3.1\n",
      "  Downloading ImageHash-4.3.1-py2.py3-none-any.whl (296 kB)\n",
      "\u001b[K     |████████████████████████████████| 296 kB 5.2 MB/s eta 0:00:01\n",
      "\u001b[?25hCollecting tqdm<5,>=4.48.2\n",
      "  Downloading tqdm-4.66.5-py3-none-any.whl (78 kB)\n",
      "\u001b[K     |████████████████████████████████| 78 kB 3.3 MB/s eta 0:00:01\n",
      "\u001b[?25hCollecting typeguard<5,>=3\n",
      "  Downloading typeguard-4.3.0-py3-none-any.whl (35 kB)\n",
      "Collecting jinja2<3.2,>=2.11.1\n",
      "  Downloading jinja2-3.1.4-py3-none-any.whl (133 kB)\n",
      "\u001b[K     |████████████████████████████████| 133 kB 6.1 MB/s eta 0:00:01\n",
      "\u001b[?25hCollecting seaborn<0.14,>=0.10.1\n",
      "  Using cached seaborn-0.13.2-py3-none-any.whl (294 kB)\n",
      "Collecting requests<3,>=2.24.0\n",
      "  Using cached requests-2.32.3-py3-none-any.whl (64 kB)\n",
      "Collecting pandas!=1.4.0,<3,>1.1\n",
      "  Downloading pandas-2.2.3-cp39-cp39-manylinux_2_17_x86_64.manylinux2014_x86_64.whl (13.1 MB)\n",
      "\u001b[K     |████████████████████████████████| 13.1 MB 5.3 MB/s eta 0:00:01\n",
      "\u001b[?25hCollecting wordcloud>=1.9.3\n",
      "  Downloading wordcloud-1.9.3-cp39-cp39-manylinux_2_17_x86_64.manylinux2014_x86_64.whl (513 kB)\n",
      "\u001b[K     |████████████████████████████████| 513 kB 4.8 MB/s eta 0:00:01\n",
      "\u001b[?25hCollecting multimethod<2,>=1.4\n",
      "  Downloading multimethod-1.12-py3-none-any.whl (10 kB)\n",
      "Collecting phik<0.13,>=0.11.1\n",
      "  Downloading phik-0.12.4-cp39-cp39-manylinux_2_17_x86_64.manylinux2014_x86_64.whl (686 kB)\n",
      "\u001b[K     |████████████████████████████████| 686 kB 4.9 MB/s eta 0:00:01\n",
      "\u001b[?25hCollecting numba<1,>=0.56.0\n",
      "  Downloading numba-0.60.0-cp39-cp39-manylinux2014_x86_64.manylinux_2_17_x86_64.whl (3.7 MB)\n",
      "\u001b[K     |████████████████████████████████| 3.7 MB 5.8 MB/s eta 0:00:01     |███████████████████████▎        | 2.7 MB 5.8 MB/s eta 0:00:01\n",
      "\u001b[?25hCollecting importlib-resources>=3.2.0; python_version < \"3.10\"\n",
      "  Downloading importlib_resources-6.4.5-py3-none-any.whl (36 kB)\n",
      "Collecting fonttools>=4.22.0\n",
      "  Downloading fonttools-4.54.1-cp39-cp39-manylinux_2_17_x86_64.manylinux2014_x86_64.whl (4.6 MB)\n",
      "\u001b[K     |████████████████████████████████| 4.6 MB 5.0 MB/s eta 0:00:01\n",
      "\u001b[?25hCollecting contourpy>=1.0.1\n",
      "  Downloading contourpy-1.3.0-cp39-cp39-manylinux_2_17_x86_64.manylinux2014_x86_64.whl (321 kB)\n",
      "\u001b[K     |████████████████████████████████| 321 kB 6.0 MB/s eta 0:00:01\n",
      "\u001b[?25hCollecting pillow>=8\n",
      "  Downloading pillow-11.0.0-cp39-cp39-manylinux_2_17_x86_64.manylinux2014_x86_64.whl (4.3 MB)\n",
      "\u001b[K     |████████████████████████████████| 4.3 MB 4.4 MB/s eta 0:00:01\n",
      "\u001b[?25hRequirement already satisfied: python-dateutil>=2.7 in /home/ccanamero/.pyenv/versions/3.9.0/lib/python3.9/site-packages (from matplotlib<3.10,>=3.5->ydata_profiling) (2.9.0.post0)\n",
      "Collecting pyparsing>=2.3.1\n",
      "  Downloading pyparsing-3.2.0-py3-none-any.whl (106 kB)\n",
      "\u001b[K     |████████████████████████████████| 106 kB 5.1 MB/s eta 0:00:01\n",
      "\u001b[?25hCollecting kiwisolver>=1.3.1\n",
      "  Downloading kiwisolver-1.4.7-cp39-cp39-manylinux_2_12_x86_64.manylinux2010_x86_64.whl (1.6 MB)\n",
      "\u001b[K     |████████████████████████████████| 1.6 MB 4.5 MB/s eta 0:00:01\n",
      "\u001b[?25hRequirement already satisfied: packaging>=20.0 in /home/ccanamero/.pyenv/versions/3.9.0/lib/python3.9/site-packages (from matplotlib<3.10,>=3.5->ydata_profiling) (24.1)\n",
      "Collecting cycler>=0.10\n",
      "  Using cached cycler-0.12.1-py3-none-any.whl (8.3 kB)\n",
      "Requirement already satisfied: typing-extensions>=4.6.1; python_version < \"3.13\" in /home/ccanamero/.pyenv/versions/3.9.0/lib/python3.9/site-packages (from pydantic>=2->ydata_profiling) (4.12.2)\n",
      "Collecting annotated-types>=0.6.0\n",
      "  Downloading annotated_types-0.7.0-py3-none-any.whl (13 kB)\n",
      "Collecting pydantic-core==2.23.4\n",
      "  Downloading pydantic_core-2.23.4-cp39-cp39-manylinux_2_17_x86_64.manylinux2014_x86_64.whl (2.1 MB)\n",
      "\u001b[K     |████████████████████████████████| 2.1 MB 3.0 MB/s eta 0:00:01\n",
      "\u001b[?25hCollecting attrs>=19.3.0\n",
      "  Downloading attrs-24.2.0-py3-none-any.whl (63 kB)\n",
      "\u001b[K     |████████████████████████████████| 63 kB 1.9 MB/s eta 0:00:01\n",
      "\u001b[?25hCollecting networkx>=2.4\n",
      "  Downloading networkx-3.2.1-py3-none-any.whl (1.6 MB)\n",
      "\u001b[K     |████████████████████████████████| 1.6 MB 5.0 MB/s eta 0:00:01\n",
      "\u001b[?25hCollecting patsy>=0.5.6\n",
      "  Downloading patsy-0.5.6-py2.py3-none-any.whl (233 kB)\n",
      "\u001b[K     |████████████████████████████████| 233 kB 4.2 MB/s eta 0:00:01\n",
      "\u001b[?25hCollecting PyWavelets\n",
      "  Downloading pywavelets-1.6.0-cp39-cp39-manylinux_2_17_x86_64.manylinux2014_x86_64.whl (4.5 MB)\n",
      "\u001b[K     |████████████████████████████████| 4.5 MB 5.3 MB/s eta 0:00:01\n",
      "\u001b[?25hRequirement already satisfied: importlib-metadata>=3.6; python_version < \"3.10\" in /home/ccanamero/.pyenv/versions/3.9.0/lib/python3.9/site-packages (from typeguard<5,>=3->ydata_profiling) (8.5.0)\n",
      "Collecting MarkupSafe>=2.0\n",
      "  Downloading MarkupSafe-3.0.1-cp39-cp39-manylinux_2_17_x86_64.manylinux2014_x86_64.whl (20 kB)\n",
      "Collecting urllib3<3,>=1.21.1\n",
      "  Downloading urllib3-2.2.3-py3-none-any.whl (126 kB)\n",
      "\u001b[K     |████████████████████████████████| 126 kB 4.8 MB/s eta 0:00:01\n",
      "\u001b[?25hCollecting certifi>=2017.4.17\n",
      "  Downloading certifi-2024.8.30-py3-none-any.whl (167 kB)\n",
      "\u001b[K     |████████████████████████████████| 167 kB 5.4 MB/s eta 0:00:01\n",
      "\u001b[?25hCollecting charset-normalizer<4,>=2\n",
      "  Downloading charset_normalizer-3.4.0-cp39-cp39-manylinux_2_17_x86_64.manylinux2014_x86_64.whl (144 kB)\n",
      "\u001b[K     |████████████████████████████████| 144 kB 4.6 MB/s eta 0:00:01\n",
      "\u001b[?25hCollecting idna<4,>=2.5\n",
      "  Downloading idna-3.10-py3-none-any.whl (70 kB)\n",
      "\u001b[K     |████████████████████████████████| 70 kB 1.2 MB/s eta 0:00:01\n",
      "\u001b[?25hCollecting pytz>=2020.1\n",
      "  Downloading pytz-2024.2-py2.py3-none-any.whl (508 kB)\n",
      "\u001b[K     |████████████████████████████████| 508 kB 5.4 MB/s eta 0:00:01\n",
      "\u001b[?25hCollecting tzdata>=2022.7\n",
      "  Downloading tzdata-2024.2-py2.py3-none-any.whl (346 kB)\n",
      "\u001b[K     |████████████████████████████████| 346 kB 6.3 MB/s eta 0:00:01\n",
      "\u001b[?25hCollecting joblib>=0.14.1\n",
      "  Downloading joblib-1.4.2-py3-none-any.whl (301 kB)\n",
      "\u001b[K     |████████████████████████████████| 301 kB 5.2 MB/s eta 0:00:01\n",
      "\u001b[?25hCollecting llvmlite<0.44,>=0.43.0dev0\n",
      "  Downloading llvmlite-0.43.0-cp39-cp39-manylinux_2_17_x86_64.manylinux2014_x86_64.whl (43.9 MB)\n",
      "\u001b[K     |████████████████████████████████| 43.9 MB 6.3 MB/s eta 0:00:01    |████▌                           | 6.1 MB 5.9 MB/s eta 0:00:07     |██████████████▉                 | 20.4 MB 8.3 MB/s eta 0:00:03\n",
      "\u001b[?25hRequirement already satisfied: zipp>=3.1.0; python_version < \"3.10\" in /home/ccanamero/.pyenv/versions/3.9.0/lib/python3.9/site-packages (from importlib-resources>=3.2.0; python_version < \"3.10\"->matplotlib<3.10,>=3.5->ydata_profiling) (3.20.2)\n",
      "Requirement already satisfied: six>=1.5 in /home/ccanamero/.pyenv/versions/3.9.0/lib/python3.9/site-packages (from python-dateutil>=2.7->matplotlib<3.10,>=3.5->ydata_profiling) (1.16.0)\n",
      "Using legacy 'setup.py install' for htmlmin, since package 'wheel' is not installed.\n",
      "Installing collected packages: numpy, scipy, importlib-resources, fonttools, contourpy, pillow, pyparsing, kiwisolver, cycler, matplotlib, annotated-types, pydantic-core, pydantic, attrs, multimethod, pytz, tzdata, pandas, networkx, PyWavelets, imagehash, visions, dacite, patsy, statsmodels, htmlmin, PyYAML, tqdm, typeguard, MarkupSafe, jinja2, seaborn, urllib3, certifi, charset-normalizer, idna, requests, wordcloud, joblib, phik, llvmlite, numba, ydata-profiling\n",
      "    Running setup.py install for htmlmin ... \u001b[?25ldone\n",
      "\u001b[?25hSuccessfully installed MarkupSafe-3.0.1 PyWavelets-1.6.0 PyYAML-6.0.2 annotated-types-0.7.0 attrs-24.2.0 certifi-2024.8.30 charset-normalizer-3.4.0 contourpy-1.3.0 cycler-0.12.1 dacite-1.8.1 fonttools-4.54.1 htmlmin-0.1.12 idna-3.10 imagehash-4.3.1 importlib-resources-6.4.5 jinja2-3.1.4 joblib-1.4.2 kiwisolver-1.4.7 llvmlite-0.43.0 matplotlib-3.9.2 multimethod-1.12 networkx-3.2.1 numba-0.60.0 numpy-2.0.2 pandas-2.2.3 patsy-0.5.6 phik-0.12.4 pillow-11.0.0 pydantic-2.9.2 pydantic-core-2.23.4 pyparsing-3.2.0 pytz-2024.2 requests-2.32.3 scipy-1.13.1 seaborn-0.13.2 statsmodels-0.14.4 tqdm-4.66.5 typeguard-4.3.0 tzdata-2024.2 urllib3-2.2.3 visions-0.7.6 wordcloud-1.9.3 ydata-profiling-4.11.0\n",
      "\u001b[33mWARNING: You are using pip version 20.2.3; however, version 24.2 is available.\n",
      "You should consider upgrading via the '/home/ccanamero/.pyenv/versions/3.9.0/bin/python3.9 -m pip install --upgrade pip' command.\u001b[0m\n"
     ]
    }
   ],
   "source": [
    "!pip install ydata_profiling"
   ]
  },
  {
   "cell_type": "code",
   "execution_count": 3,
   "metadata": {},
   "outputs": [],
   "source": [
    "\n",
    "import pandas as pd\n",
    "from ydata_profiling import ProfileReport\n",
    "\n",
    "df = pd.read_csv('student/student-mat.csv', delimiter=';')\n",
    "profile = ProfileReport(df, title=\"Profiling Report\")\n"
   ]
  },
  {
   "cell_type": "code",
   "execution_count": 4,
   "metadata": {},
   "outputs": [
    {
     "name": "stderr",
     "output_type": "stream",
     "text": [
      "Summarize dataset: 100%|██████████| 67/67 [00:04<00:00, 16.43it/s, Completed]                   \n",
      "Generate report structure: 100%|██████████| 1/1 [00:04<00:00,  4.60s/it]\n",
      "Render HTML: 100%|██████████| 1/1 [00:00<00:00,  1.15it/s]\n",
      "Export report to file: 100%|██████████| 1/1 [00:00<00:00, 185.29it/s]\n"
     ]
    }
   ],
   "source": [
    "profile.to_file(output_file=\"analysis.html\")"
   ]
  }
 ],
 "metadata": {
  "kernelspec": {
   "display_name": "pr-1",
   "language": "python",
   "name": "python3"
  },
  "language_info": {
   "codemirror_mode": {
    "name": "ipython",
    "version": 3
   },
   "file_extension": ".py",
   "mimetype": "text/x-python",
   "name": "python",
   "nbconvert_exporter": "python",
   "pygments_lexer": "ipython3",
   "version": "3.9.0"
  }
 },
 "nbformat": 4,
 "nbformat_minor": 2
}
